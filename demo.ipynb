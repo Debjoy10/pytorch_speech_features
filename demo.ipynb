{
 "cells": [
  {
   "cell_type": "markdown",
   "id": "10ba1d74",
   "metadata": {},
   "source": [
    "### Example - *pytorch_speech_features*"
   ]
  },
  {
   "cell_type": "code",
   "execution_count": 1,
   "id": "16bd57d0",
   "metadata": {},
   "outputs": [],
   "source": [
    "from pytorch_speech_features import mfcc\n",
    "from pytorch_speech_features import delta\n",
    "from pytorch_speech_features import logfbank\n",
    "import scipy.io.wavfile as wav\n",
    "import torch\n",
    "import numpy as np\n",
    "%load_ext autoreload\n",
    "%autoreload 2"
   ]
  },
  {
   "cell_type": "code",
   "execution_count": 2,
   "id": "3aab7aa0",
   "metadata": {},
   "outputs": [],
   "source": [
    "device = 'cuda' # 'cuda' / 'cpu'"
   ]
  },
  {
   "cell_type": "code",
   "execution_count": 3,
   "id": "8d5d2339",
   "metadata": {},
   "outputs": [],
   "source": [
    "## Read wav file and tensor conversion\n",
    "(rate,sig_array) = wav.read(\"english.wav\")\n",
    "sig = torch.FloatTensor(sig_array)\n",
    "sig = sig.to(device)\n",
    "sig.requires_grad = True"
   ]
  },
  {
   "cell_type": "code",
   "execution_count": 4,
   "id": "906988cd",
   "metadata": {},
   "outputs": [],
   "source": [
    "## Feature extraction\n",
    "mfcc_feat = mfcc(sig,rate)\n",
    "inp = mfcc_feat[:100,:].unsqueeze(0).unsqueeze(0).to(torch.float32)"
   ]
  },
  {
   "cell_type": "code",
   "execution_count": 5,
   "id": "84acff47",
   "metadata": {},
   "outputs": [],
   "source": [
    "## Check equality to python_speech_features\n",
    "from python_speech_features import mfcc as orgmfcc\n",
    "assert np.allclose(orgmfcc(sig_array,rate)[0], mfcc(sig,rate)[0].detach().cpu().numpy(), rtol=1e-03)"
   ]
  },
  {
   "cell_type": "code",
   "execution_count": 6,
   "id": "9b377414",
   "metadata": {},
   "outputs": [],
   "source": [
    "## Model in PyTorch\n",
    "class Demo_MFCC_model(torch.nn.Module):\n",
    "    def __init__(self):\n",
    "        super(Demo_MFCC_model, self).__init__()\n",
    "        self.conv = torch.nn.Conv2d(1, 4, 5)\n",
    "        self.flatten = torch.nn.Flatten()\n",
    "        self.linear1 = torch.nn.Linear(3456, 200)\n",
    "        self.activation = torch.nn.ReLU()\n",
    "        self.linear2 = torch.nn.Linear(200, 10)\n",
    "        self.softmax = torch.nn.Softmax(dim = -1)\n",
    "\n",
    "    def forward(self, x):\n",
    "        x = self.conv(x)\n",
    "        x = self.flatten(x)\n",
    "        x = self.linear1(x)\n",
    "        x = self.activation(x)\n",
    "        x = self.linear2(x)\n",
    "        x = self.softmax(x)\n",
    "        return x"
   ]
  },
  {
   "cell_type": "code",
   "execution_count": 7,
   "id": "4a353e25",
   "metadata": {},
   "outputs": [],
   "source": [
    "## Model forward pass\n",
    "model = Demo_MFCC_model()\n",
    "model.to(device)\n",
    "preds = model(inp)"
   ]
  },
  {
   "cell_type": "code",
   "execution_count": 8,
   "id": "e93b1c65",
   "metadata": {
    "scrolled": true
   },
   "outputs": [],
   "source": [
    "## Target loss and backward pass\n",
    "loss = preds[0, 5]\n",
    "loss.backward()"
   ]
  },
  {
   "cell_type": "code",
   "execution_count": 9,
   "id": "07640cc8",
   "metadata": {
    "scrolled": true
   },
   "outputs": [
    {
     "data": {
      "text/plain": [
       "tensor([-1.6400e-07, -2.0080e-07,  5.3700e-07,  ...,  0.0000e+00,\n",
       "         0.0000e+00,  0.0000e+00], device='cuda:0')"
      ]
     },
     "execution_count": 9,
     "metadata": {},
     "output_type": "execute_result"
    }
   ],
   "source": [
    "## Check gradient on input wav\n",
    "sig.grad"
   ]
  },
  {
   "cell_type": "code",
   "execution_count": null,
   "id": "8da57704",
   "metadata": {},
   "outputs": [],
   "source": []
  }
 ],
 "metadata": {
  "kernelspec": {
   "display_name": "mtp",
   "language": "python",
   "name": "mtp"
  },
  "language_info": {
   "codemirror_mode": {
    "name": "ipython",
    "version": 3
   },
   "file_extension": ".py",
   "mimetype": "text/x-python",
   "name": "python",
   "nbconvert_exporter": "python",
   "pygments_lexer": "ipython3",
   "version": "3.8.15"
  }
 },
 "nbformat": 4,
 "nbformat_minor": 5
}
